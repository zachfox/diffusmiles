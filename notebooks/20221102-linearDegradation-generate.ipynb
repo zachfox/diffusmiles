{
 "cells": [
  {
   "cell_type": "code",
   "execution_count": null,
   "metadata": {},
   "outputs": [],
   "source": [
    "import torch.nn as nn\n",
    "import functools\n",
    "import torch\n",
    "import numpy as np\n",
    "from matplotlib import pyplot as plt\n",
    "import numba_scipy\n",
    "import gc\n",
    "import os\n",
    "from utils import save_checkpoint_withEval as save_checkpoint\n",
    "from utils import restore_checkpoint_withEval as restore_checkpoint\n",
    "import datasets\n",
    "import tensorflow as tf\n",
    "from torch.utils.cpp_extension import load\n",
    "from models import ncsnpp\n",
    "from configs.vp import cifar10_ncsnpp_continuous as configLoader\n",
    "from models import utils as mutils\n",
    "from models.ema import ExponentialMovingAverage"
   ]
  },
  {
   "cell_type": "code",
   "execution_count": null,
   "metadata": {},
   "outputs": [],
   "source": [
    "relu = nn.functional.relu"
   ]
  },
  {
   "cell_type": "markdown",
   "metadata": {},
   "source": [
    "### Loading the ML model from Song et al."
   ]
  },
  {
   "cell_type": "code",
   "execution_count": null,
   "metadata": {},
   "outputs": [],
   "source": [
    "config =  configLoader.get_config()\n",
    "config.training.batch_size=128\n",
    "config.training.snapshot_freq_for_preemption=1000\n",
    "config.training.snapshot_freq=50000\n",
    "config.training.log_freq=5"
   ]
  },
  {
   "cell_type": "code",
   "execution_count": null,
   "metadata": {},
   "outputs": [],
   "source": [
    "config.data.dataset='MNIST'\n",
    "config.data.image_size=32\n",
    "config.data.num_channels=3\n",
    "config.data.random_flip=False\n",
    "config.model.nf=64\n",
    "config.model.name='ncsnpp'\n",
    "config.model.num_scales=1000"
   ]
  },
  {
   "cell_type": "markdown",
   "metadata": {},
   "source": [
    "### Specify observation times"
   ]
  },
  {
   "cell_type": "code",
   "execution_count": null,
   "metadata": {},
   "outputs": [],
   "source": [
    "tEnd = 15. #(approximately)\n",
    "T = 1000\n",
    "T = T+1\n",
    "observationTimes1 = np.linspace(0, 1, 201)[1:]\n",
    "observationTimes2 = np.linspace(1, tEnd, 801)[1:]\n",
    "observationTimes = np.hstack((observationTimes1,observationTimes2))\n",
    "T = T-1"
   ]
  },
  {
   "cell_type": "markdown",
   "metadata": {},
   "source": [
    "### Load the trained model"
   ]
  },
  {
   "cell_type": "code",
   "execution_count": null,
   "metadata": {},
   "outputs": [],
   "source": [
    "score_model = mutils.create_model(config)\n",
    "score_fn = mutils.get_model_fn(score_model, train=True)\n",
    "optimizer = torch.optim.Adam(score_model.parameters(),lr=config.optim.lr) \n",
    "ema = ExponentialMovingAverage(score_model.parameters(), decay=config.model.ema_rate)\n",
    "state = dict(optimizer=optimizer, model=score_model, ema=ema, lossHistory=[], step=0)\n",
    "\n",
    "workdir = 'linearDegradation-mnist'\n",
    "\n",
    "checkpoint_dir = os.path.join(workdir, \"checkpoints\")\n",
    "checkpoint_meta_dir = os.path.join(workdir, \"checkpoints-meta\", \"checkpoint.pth\")\n",
    "tf.io.gfile.makedirs(checkpoint_dir)\n",
    "tf.io.gfile.makedirs(os.path.dirname(checkpoint_meta_dir))\n",
    "state = restore_checkpoint(checkpoint_meta_dir, state, config.device)\n",
    "initial_step = int(state['step'])\n",
    "lossHistory = state['lossHistory']\n",
    "evalLossHistory = state['evalLossHistory']\n",
    "ema.copy_to(score_model.parameters())"
   ]
  },
  {
   "cell_type": "markdown",
   "metadata": {},
   "source": [
    "### Visualize train/test loss"
   ]
  },
  {
   "cell_type": "code",
   "execution_count": null,
   "metadata": {},
   "outputs": [],
   "source": [
    "def emaFunc(x, r):\n",
    "    \n",
    "    output = np.zeros_like(x)\n",
    "    \n",
    "    output[0] = x[0]\n",
    "    \n",
    "    for i in range(1, len(x)):\n",
    "        \n",
    "        output[i] = (1.0-r)*output[i-1] + (r)*x[i]\n",
    "        \n",
    "    return output"
   ]
  },
  {
   "cell_type": "code",
   "execution_count": 19,
   "metadata": {},
   "outputs": [
    {
     "data": {
      "text/plain": [
       "Text(0.5, 1.0, 'Iteration=61')"
      ]
     },
     "execution_count": 19,
     "metadata": {},
     "output_type": "execute_result"
    },
    {
     "data": {
      "image/png": "[encoded data removed]",
      "text/plain": [
       "<Figure size 432x288 with 1 Axes>"
      ]
     },
     "metadata": {
      "needs_background": "light"
     },
     "output_type": "display_data"
    }
   ],
   "source": [
    "fig = plt.figure()\n",
    "plt.plot(5*np.arange(len(lossHistory[::5][:])), np.array(emaFunc(lossHistory[::5][:],0.01)), label='Train')\n",
    "plt.plot(5*np.arange(len(evalLossHistory[:])), np.array(emaFunc(evalLossHistory[:], 0.01)), label='Test')\n",
    "plt.gca().set_yscale('log')\n",
    "plt.legend(loc='best')\n",
    "plt.title(f'Iteration={len(lossHistory)}')"
   ]
  },
  {
   "cell_type": "markdown",
   "metadata": {},
   "source": [
    "### Generating samples"
   ]
  },
  {
   "cell_type": "code",
   "execution_count": null,
   "metadata": {},
   "outputs": [],
   "source": [
    "# Tau-leaping\n",
    "\n",
    "ensN = 64\n",
    "\n",
    "state = torch.from_numpy(0.*np.ones((ensN,3,32,32)).astype('float32')).to(config.device)\n",
    "\n",
    "summary = []\n",
    "\n",
    "with torch.no_grad():\n",
    "    \n",
    "    for i in range(T-1, -1, -1):\n",
    "\n",
    "        if np.mod(i,50)==0:\n",
    "            \n",
    "            print(f'reverse pass, tIndex={i}, t={observationTimes[i]}')\n",
    "            \n",
    "        p = np.exp(-observationTimes[i])\n",
    "        \n",
    "        width = 255.0/2*p\n",
    "        mean_v = 255.0/2*p\n",
    "        \n",
    "        ind = torch.from_numpy(i*np.ones((ensN,)).astype('int32')).to(config.device)\n",
    "        birthRate = relu(score_fn((state-mean_v)/width, ind)).detach().cpu().numpy()*p/(1-p)\n",
    "        \n",
    "        if i==0:\n",
    "            dt = observationTimes[i]\n",
    "        else:\n",
    "            dt = observationTimes[i]-observationTimes[i-1]\n",
    "             \n",
    "        draw = np.random.poisson(dt*birthRate)\n",
    "        \n",
    "        summary.append(np.ravel(draw))\n",
    "        \n",
    "        state = torch.clip(state + torch.from_numpy((draw).astype('float32')).to(config.device), 0, 255)"
   ]
  },
  {
   "cell_type": "code",
   "execution_count": null,
   "metadata": {
    "run_control": {
     "marked": false
    },
    "scrolled": false
   },
   "outputs": [],
   "source": [
    "factor = ensN //64\n",
    "\n",
    "fig,ax=plt.subplots(8*factor,8,figsize=(12,10*factor))\n",
    "\n",
    "for i in range(8*factor):\n",
    "    for j in range(8):\n",
    "        ax[i,j].imshow( np.transpose(state[8*i+j,:,:,:].detach().cpu().numpy(), [1,2,0])/255 )\n",
    "        ax[i,j].set_title(str(8*i+j))\n",
    "        ax[i,j].set_xticklabels([])\n",
    "        ax[i,j].set_yticklabels([])\n",
    "\n",
    "fig.tight_layout()"
   ]
  },
  {
   "cell_type": "code",
   "execution_count": null,
   "metadata": {},
   "outputs": [],
   "source": []
  }
 ],
 "metadata": {
  "kernelspec": {
   "display_name": "torchSDE",
   "language": "python",
   "name": "torchsde"
  },
  "language_info": {
   "codemirror_mode": {
    "name": "ipython",
    "version": 3
   },
   "file_extension": ".py",
   "mimetype": "text/x-python",
   "name": "python",
   "nbconvert_exporter": "python",
   "pygments_lexer": "ipython3",
   "version": "3.7.6"
  },
  "varInspector": {
   "cols": {
    "lenName": 16,
    "lenType": 16,
    "lenVar": 40
   },
   "kernels_config": {
    "python": {
     "delete_cmd_postfix": "",
     "delete_cmd_prefix": "del ",
     "library": "var_list.py",
     "varRefreshCmd": "print(var_dic_list())"
    },
    "r": {
     "delete_cmd_postfix": ") ",
     "delete_cmd_prefix": "rm(",
     "library": "var_list.r",
     "varRefreshCmd": "cat(var_dic_list()) "
    }
   },
   "types_to_exclude": [
    "module",
    "function",
    "builtin_function_or_method",
    "instance",
    "_Feature"
   ],
   "window_display": false
  }
 },
 "nbformat": 4,
 "nbformat_minor": 4
}
